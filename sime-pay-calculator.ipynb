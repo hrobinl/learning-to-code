{
 "cells": [
  {
   "cell_type": "markdown",
   "metadata": {},
   "source": [
    "## Simple Wage Calculator"
   ]
  },
  {
   "cell_type": "code",
   "execution_count": 4,
   "metadata": {},
   "outputs": [],
   "source": [
    "#Practice by adding any number to a function:\n",
    "def add_three(input_var):\n",
    "    output_var = input_var + 3\n",
    "    return output_var\n"
   ]
  },
  {
   "cell_type": "code",
   "execution_count": 5,
   "metadata": {},
   "outputs": [
    {
     "name": "stdout",
     "output_type": "stream",
     "text": [
      "23\n"
     ]
    }
   ],
   "source": [
    "#Run the function with 20 as the output:\n",
    "new_number = add_three(20)\n",
    "\n",
    "#Check that the value is 23:\n",
    "print(new_number)"
   ]
  },
  {
   "cell_type": "markdown",
   "metadata": {},
   "source": [
    "#A more complex example\n",
    "#Now that you understand the basics, we can move on to an example with a longer calculation.\n",
    "\n",
    "#Say you are helping a friend to calculate their weekly paycheck after taxes.\n",
    "\n",
    "#They're in a 12% tax bracket (in other words, 12% of their salary is taken for taxes, and they only take home 88%), and\n",
    "#They're paid hourly, at a rate of $19.50/hour.\n",
    "#The function below calculates the paycheck based on the number of hours worked. The function is more complicated than with the first example, because the function has more lines of code and #comments. Similar to the example above, the function has a single argument (num hours). In the function body, we:\n",
    "\n",
    "#Use the value for num_hours to specify the value for a new variable pay_pretax.\n",
    "#Use the value of pay_pretax to specify the value for a new variable pay_aftertax.\n",
    "#Return the value of the pay_aftertax variable."
   ]
  },
  {
   "cell_type": "code",
   "execution_count": 6,
   "metadata": {},
   "outputs": [],
   "source": [
    "#Deine pay per week based off of hourly wage and tax bracket:\n",
    "def get_pay(num_hours):\n",
    "    #Pre-tax pay, based on rec $19.50/hr\n",
    "    pay_pretax = num_hours * 19.50\n",
    "    #After-tax pay, based on 12% tax bracket\n",
    "    pay_posttax = pay_pretax * (1 - .12)\n",
    "    return pay_posttax"
   ]
  },
  {
   "cell_type": "code",
   "execution_count": 9,
   "metadata": {},
   "outputs": [
    {
     "name": "stdout",
     "output_type": "stream",
     "text": [
      "686.4\n"
     ]
    }
   ],
   "source": [
    "#Calculate pay based off of working 40 hours:\n",
    "pay_fulltime = get_pay(40)\n",
    "print(pay_fulltime)"
   ]
  },
  {
   "cell_type": "code",
   "execution_count": 10,
   "metadata": {},
   "outputs": [
    {
     "name": "stdout",
     "output_type": "stream",
     "text": [
      "1372.8\n"
     ]
    }
   ],
   "source": [
    "#Calculate pay off of biweekly pay (80) hours:\n",
    "pay_biweekly = pay_fulltime * 2\n",
    "print(pay_biweekly)"
   ]
  },
  {
   "cell_type": "code",
   "execution_count": 11,
   "metadata": {},
   "outputs": [
    {
     "name": "stdout",
     "output_type": "stream",
     "text": [
      "429.0\n"
     ]
    }
   ],
   "source": [
    "#Calculate pay off of working less than 40 hours:\n",
    "pay_halftime = get_pay(25)\n",
    "print(pay_halftime)"
   ]
  }
 ],
 "metadata": {
  "kernelspec": {
   "display_name": "Python 3 (ipykernel)",
   "language": "python",
   "name": "python3"
  },
  "orig_nbformat": 4
 },
 "nbformat": 4,
 "nbformat_minor": 2
}
